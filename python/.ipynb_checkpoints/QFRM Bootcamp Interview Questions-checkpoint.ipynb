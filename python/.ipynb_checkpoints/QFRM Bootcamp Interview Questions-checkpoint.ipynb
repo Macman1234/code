{
 "cells": [
  {
   "cell_type": "code",
   "execution_count": 28,
   "metadata": {
    "collapsed": false
   },
   "outputs": [
    {
     "name": "stdout",
     "output_type": "stream",
     "text": [
      "0.53822\n"
     ]
    }
   ],
   "source": [
    "import numpy as np\n",
    "\n",
    "# 3.1 You have a bag with two coins. \n",
    "# One will come up heads 40% of the time, \n",
    "# and the other will come up heads 60%. \n",
    "# You pick a coin randomly, flip it and get a head. \n",
    "# What is the probability it will be heads on the next flip?\n",
    "\n",
    "# BONUS: What if you flip two heads with coin. What is P(H) on next flip?\n",
    "\n",
    "class Coin(object):\n",
    "    def __init__(self, prob_head):\n",
    "        self.prob_head = prob_head\n",
    "        \n",
    "    def flipIsHead(self):\n",
    "        return np.random.random() < self.prob_head\n",
    "    \n",
    "# Test the Coin class by uncommenting:\n",
    "# c = Coin(0.9)\n",
    "# print c.flipIsHead()\n",
    "\n",
    "class CoinPurse(object):\n",
    "    def __init__(self):\n",
    "        self.coins = []\n",
    "\n",
    "    def add_coin(self, prob_head):\n",
    "        self.coins.append(Coin(prob_head))\n",
    "    \n",
    "    def pick_coin_at_random(self):\n",
    "        return np.random.choice(self.coins)\n",
    "    \n",
    "purse = CoinPurse()\n",
    "purse.add_coin(0.4)\n",
    "purse.add_coin(0.6)\n",
    "# print purse.pick_coin_at_random().prob_head\n",
    "\n",
    "num_trials = 100000\n",
    "trial_count = 0\n",
    "head_count = 0\n",
    "while trial_count < num_trials:\n",
    "    coin = purse.pick_coin_at_random()\n",
    "    if coin.flipIsHead():\n",
    "        trial_count += 1\n",
    "        if coin.flipIsHead():\n",
    "            head_count += 1\n",
    "\n",
    "print float(head_count) / num_trials"
   ]
  },
  {
   "cell_type": "code",
   "execution_count": 27,
   "metadata": {
    "collapsed": false
   },
   "outputs": [
    {
     "name": "stdout",
     "output_type": "stream",
     "text": [
      "0.4\n"
     ]
    }
   ],
   "source": [
    "# 3.3 In front of you is a jar of 1000 coins. \n",
    "# One of the coins has two heads, and the rest are fair coins. \n",
    "# You choose a coin at random, and flip it ten times, getting all heads. \n",
    "# What is the probability it is one of the fair coins?\n",
    "# WARNING: SLOW!!!\n",
    "# Possible exercise on vectorization. E.g. \n",
    "\n",
    "num_coins_in_jar = 1000\n",
    "num_flips_to_get_all_heads = 10\n",
    "num_trials = 10\n",
    "\n",
    "\n",
    "purse = CoinPurse()\n",
    "purse.add_coin(1)\n",
    "for i in range(0,num_coins_in_jar - 1):\n",
    "    purse.add_coin(0.5)\n",
    "\n",
    "trial_count = 0\n",
    "two_headed_count = 0\n",
    "\n",
    "while trial_count < num_trials:\n",
    "    coin = purse.pick_coin_at_random()\n",
    "    all_heads = True\n",
    "    for i in range(0,num_flips_to_get_all_heads):\n",
    "        if not coin.flipIsHead():\n",
    "            all_heads = False\n",
    "            break\n",
    "    if all_heads:\n",
    "        trial_count += 1\n",
    "        if coin.prob_head == 1:\n",
    "            two_headed_count += 1\n",
    "\n",
    "print float(two_headed_count) / trial_count"
   ]
  },
  {
   "cell_type": "code",
   "execution_count": 5,
   "metadata": {
    "collapsed": false
   },
   "outputs": [
    {
     "name": "stdout",
     "output_type": "stream",
     "text": [
      "21.3834\n"
     ]
    }
   ],
   "source": [
    "# 3.5 [2] Starting at one vertex of a cube, \n",
    "# and moving randomly from vertex to adjacent vertices, \n",
    "# what is the expected number of moves until \n",
    "# you reach the vertex opposite from your starting point?\n",
    "import numpy as np\n",
    "\n",
    "dimension = 4\n",
    "number_trials = 10000\n",
    "trials =  np.zeros(number_trials)\n",
    "\n",
    "for index in range(number_trials):\n",
    "    vertex = np.zeros(dimension)\n",
    "    while sum(vertex) < dimension:\n",
    "        vertex_index_to_change = np.random.randint(dimension)\n",
    "        vertex[vertex_index_to_change] = 1 - vertex[vertex_index_to_change]\n",
    "        trials[index] = trials[index] + 1\n",
    "print np.mean(trials)"
   ]
  },
  {
   "cell_type": "code",
   "execution_count": 11,
   "metadata": {
    "collapsed": false
   },
   "outputs": [
    {
     "name": "stdout",
     "output_type": "stream",
     "text": [
      "Populating the interactive namespace from numpy and matplotlib\n",
      "2.755\n"
     ]
    },
    {
     "data": {
      "image/png": "[encoded data removed]",
      "text/plain": [
       "<matplotlib.figure.Figure at 0x109d427d0>"
      ]
     },
     "metadata": {},
     "output_type": "display_data"
    }
   ],
   "source": [
    "# 3.8 You have a spinner that generates random numbers \n",
    "# that are uniform between 0 and 1. You sum the spins \n",
    "# until the sum is greater than one. \n",
    "# What is the expected number of spins?\n",
    "%pylab inline\n",
    "import numpy as np\n",
    "import matplotlib.pyplot as plt\n",
    "\n",
    "num_trials = 1000\n",
    "\n",
    "def sumPastOne():\n",
    "    sum = 0\n",
    "    count = 0\n",
    "    while sum <= 1:\n",
    "        sum += np.random.random()\n",
    "        count += 1\n",
    "    return count\n",
    "        \n",
    "trials = [sumPastOne() for d in range(num_trials)]\n",
    "num_bins = np.max(trials) - np.min(trials) + 1\n",
    "plt.hist(trials, bins = num_bins, normed=True, \n",
    "         align='left', rwidth=0.3, range = (2, 2 + num_bins))\n",
    "print np.mean(trials)"
   ]
  },
  {
   "cell_type": "code",
   "execution_count": 51,
   "metadata": {
    "collapsed": false
   },
   "outputs": [
    {
     "name": "stdout",
     "output_type": "stream",
     "text": [
      "49.49\n"
     ]
    },
    {
     "data": {
      "image/png": "[encoded data removed]",
      "text/plain": [
       "<matplotlib.figure.Figure at 0x11032b650>"
      ]
     },
     "metadata": {},
     "output_type": "display_data"
    }
   ],
   "source": [
    "# 4.4 You have a basket of n assets. \n",
    "# The asset returns are multivariate normal with zero mean. \n",
    "# Correlation between any pair of assets is 1/2. \n",
    "# What is the probability that k of the assets will have negative return?\n",
    "\n",
    "class Basket():\n",
    "    def __init__(self, number_names, correlation):\n",
    "        self.number_names = number_names\n",
    "        self.correlation = correlation\n",
    "        \n",
    "    def simulated_returns_less_than(self, threshold):\n",
    "        market = np.random.randn(1)\n",
    "        idiosyncratic_noise = np.random.randn(self.number_names) \n",
    "        asset_returns = idiosyncratic_noise * sqrt(1 - self.correlation) + sqrt(self.correlation) * market\n",
    "        return len(filter(lambda x: x < threshold, asset_returns))\n",
    "\n",
    "num_names = 100\n",
    "basket = Basket(num_names, 0.5)\n",
    "num_trials = 1000\n",
    "trials = [basket.simulated_returns_less_than(0) for d in range(num_trials)]\n",
    "num_bins = num_names + 2\n",
    "plt.hist(trials, color='r', bins = num_bins, cumulative=True, \n",
    "         align='left', range = (0, num_names + 2))\n",
    "print np.mean(trials)\n"
   ]
  },
  {
   "cell_type": "code",
   "execution_count": 16,
   "metadata": {
    "collapsed": false
   },
   "outputs": [
    {
     "name": "stdout",
     "output_type": "stream",
     "text": [
      "0.24971\n"
     ]
    }
   ],
   "source": [
    "# 3.10 A stick is broken randomly into 3 pieces. \n",
    "# What is the probability of the pieces being able to form a triangle?\n",
    "import numpy as np\n",
    "\n",
    "num_trials = 100000\n",
    "triangle_count = 0\n",
    "for i in range(num_trials):\n",
    "    breaks = [np.random.random(), np.random.random()]\n",
    "    breaks.sort()\n",
    "    lengths = [breaks[0], breaks[1]-breaks[0], 1 - breaks[1]]\n",
    "    if(max(lengths) < 0.5):\n",
    "        triangle_count += 1\n",
    "print float(triangle_count)/num_trials"
   ]
  },
  {
   "cell_type": "code",
   "execution_count": 25,
   "metadata": {
    "collapsed": false
   },
   "outputs": [
    {
     "name": "stdout",
     "output_type": "stream",
     "text": [
      "0.38522\n"
     ]
    }
   ],
   "source": [
    "# 3.11 A stick is broken randomly into two pieces. \n",
    "# The larger piece is then broken randomly into two pieces. \n",
    "# What is the probability of the pieces being able to form a triangle?\n",
    "import numpy as np\n",
    "\n",
    "num_trials = 1000000\n",
    "triangle_count = 0\n",
    "for i in range(num_trials):\n",
    "    second_break = np.random.random() \n",
    "    if second_break < 0.5:\n",
    "        second_break = 1 - second_break\n",
    "    first_break = second_break * np.random.random()\n",
    "    if first_break < 0.5 and second_break - first_break < 0.5:\n",
    "        triangle_count += 1\n",
    "print float(triangle_count)/num_trials"
   ]
  },
  {
   "cell_type": "code",
   "execution_count": 9,
   "metadata": {
    "collapsed": false
   },
   "outputs": [
    {
     "name": "stdout",
     "output_type": "stream",
     "text": [
      "[1, 4, 9, 16, 25, 36]\n"
     ]
    }
   ],
   "source": [
    "# 5.10 Suppose there are 42 students in the QFRM program, \n",
    "# each assigned a unique integer from 1 to 42. \n",
    "# Forty-two quarters are laid out on a table in a row, heads up. \n",
    "# Each student goes to the table, and if they are assigned the number n, \n",
    "# they turn over the nth coin, the 2nth coin, and so on. \n",
    "# So, for example, the student who is assigned 20 \n",
    "# will turn over the 20th and 40th coins. \n",
    "# When everyone is done, how many tails are showing?\n",
    "num_quarters = 42\n",
    "quarters = [(n, False) for n in range(1,num_quarters)] #List comprehension!\n",
    "\n",
    "#flip all the switches for all students\n",
    "for ctr in range(1, num_quarters):\n",
    "    def flip(quarter):\n",
    "        if(quarter[0] % ctr == 0):\n",
    "            return (quarter[0], not quarter[1])\n",
    "        return quarter\n",
    "    quarters = map(flip, quarters)\n",
    "\n",
    "def heads_up(quarter):\n",
    "    return quarter[1]\n",
    "def quarter_number(quarter):\n",
    "    return quarter[0]\n",
    "\n",
    "# select only those quarters that are on, and extract the student number\n",
    "print map(quarter_number, filter(heads_up, quarters))"
   ]
  },
  {
   "cell_type": "code",
   "execution_count": null,
   "metadata": {
    "collapsed": true
   },
   "outputs": [],
   "source": []
  }
 ],
 "metadata": {
  "kernelspec": {
   "display_name": "Python 2",
   "language": "python",
   "name": "python2"
  },
  "language_info": {
   "codemirror_mode": {
    "name": "ipython",
    "version": 2
   },
   "file_extension": ".py",
   "mimetype": "text/x-python",
   "name": "python",
   "nbconvert_exporter": "python",
   "pygments_lexer": "ipython2",
   "version": "2.7.11"
  }
 },
 "nbformat": 4,
 "nbformat_minor": 0
}
