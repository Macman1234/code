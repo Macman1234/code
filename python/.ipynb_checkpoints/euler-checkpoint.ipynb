{
 "cells": [
  {
   "cell_type": "code",
   "execution_count": 6,
   "metadata": {
    "collapsed": false
   },
   "outputs": [
    {
     "name": "stdout",
     "output_type": "stream",
     "text": [
      "4782\n"
     ]
    }
   ],
   "source": [
    "def comb(n, m):\n",
    "    return product(range(n - m + 1, n+1)) / product(range(1, m+1))\n",
    "\n",
    "def factorial(n):\n",
    "    return product(range(1, n+1))\n",
    "\n",
    "\n",
    "def factors(n): #return dictionary of primes to their powers\n",
    "    factors = {}\n",
    "    while n > 1:\n",
    "        prime = least_prime_factor(n)\n",
    "        if factors.get(prime) == None:\n",
    "            factors[prime] = 1\n",
    "        else:\n",
    "            factors[prime] += 1\n",
    "        n /= prime\n",
    "    return factors\n",
    "\n",
    "def gcd(a,b):\n",
    "    if a < b:\n",
    "        return gcd(b,a)\n",
    "    if a % b == 0:\n",
    "        return b\n",
    "    return gcd(b, a-a/b*b)\n",
    "    \n",
    "def isAbundant(n):\n",
    "    return sumProperDivisors(n) > n\n",
    "\n",
    "def is_palindrome(s):\n",
    "    for i in range(0, len(s)/2):\n",
    "        if s[i] != s[len(s) - i - 1]:\n",
    "            return False\n",
    "    return True\n",
    "\n",
    "def is_prime(n):\n",
    "    if n == 2:\n",
    "        return True;\n",
    "    if n < 2 or n%2 == 0:\n",
    "        return False\n",
    "    f = 3\n",
    "    while f*f <= n:\n",
    "        if n % f == 0:\n",
    "            return False\n",
    "        f += 2\n",
    "    return True\n",
    "\n",
    "def least_prime_factor(n):\n",
    "    p = 2\n",
    "    while p*p <= n:\n",
    "        if n % p == 0:\n",
    "            return p\n",
    "        else:\n",
    "            if p == 2:\n",
    "                p = 3\n",
    "            else:\n",
    "                p += 2\n",
    "    return n\n",
    "\n",
    "def numDivisors(n):\n",
    "    return reduce(lambda x, y: x*(y+1), factors(n).values(), 1)\n",
    "\n",
    "\n",
    "def max_prime_factor(n):\n",
    "    p = 2\n",
    "    while p*p <= n:\n",
    "        if n % p == 0:\n",
    "            n /= p\n",
    "        else:\n",
    "            if p == 2:\n",
    "                p = 3\n",
    "            else:\n",
    "                p += 2\n",
    "    return n\n",
    "\n",
    "def product(numList):\n",
    "    return reduce(lambda x, y: x*y, numList, 1)\n",
    "\n",
    "\n",
    "def summation(numbers):\n",
    "    return reduce(lambda x, y: x+y, numbers)\n",
    "\n",
    "def sumProperDivisors(n):\n",
    "    answer = 1\n",
    "    for prime, power in factors(n).iteritems():\n",
    "        answer *= summation([prime**k for k in range(0,power + 1)])\n",
    "    return answer - n"
   ]
  }
 ],
 "metadata": {
  "kernelspec": {
   "display_name": "Python 2",
   "language": "python",
   "name": "python2"
  },
  "language_info": {
   "codemirror_mode": {
    "name": "ipython",
    "version": 2
   },
   "file_extension": ".py",
   "mimetype": "text/x-python",
   "name": "python",
   "nbconvert_exporter": "python",
   "pygments_lexer": "ipython2",
   "version": "2.7.11"
  }
 },
 "nbformat": 4,
 "nbformat_minor": 0
}
