{
 "cells": [
  {
   "cell_type": "markdown",
   "metadata": {},
   "source": [
    "### 100. Arranged probability\n",
    "\n",
    "If a box contains twenty-one coloured discs, composed of fifteen blue discs and six red discs, and two discs were taken at random, it can be seen that the probability of taking two blue discs, P(BB) = (15/21)×(14/20) = 1/2.\n",
    "\n",
    "The next such arrangement, for which there is exactly 50% chance of taking two blue discs at random, is a box containing eighty-five blue discs and thirty-five red discs.\n",
    "\n",
    "By finding the first arrangement to contain over 1012 = 1,000,000,000,000 discs in total, determine the number of blue discs that the box would contain.\n",
    "<hr/>"
   ]
  },
  {
   "cell_type": "markdown",
   "metadata": {},
   "source": [
    "#### Notes:\n",
    "$\\frac{3}{4} \\frac{2}{3}=\\frac{1}{2}$\n",
    "\n",
    "$\\frac{15}{21} \\frac{14}{20}=\\frac{1}{2}$\n",
    "\n",
    "$\\frac{85}{120} \\frac{84}{119}=\\frac{1}{2}$\n",
    "\n",
    "$\\frac{b}{r+b} \\frac{b-1}{r+b-1}=\\frac{1}{2}$\n",
    "\n",
    "So $2b(b-1)=(r+b)(r+b-1)$. This can be transformed into a diophantine equation of form $x^2-2y^2=1$ (aka a Pell equation). I wasn't aware of this at the time I solved it, and I noted and exploited the fact that the number of blue balls $b$ required grew geometrically, and the ratio involved converged quickly to $3+\\sqrt{8}$.\n",
    "\n",
    "Also, $r = \\frac{1+\\sqrt{1+8b(b-1)}}{2}-b$."
   ]
  },
  {
   "cell_type": "code",
   "execution_count": 4,
   "metadata": {
    "collapsed": false
   },
   "outputs": [
    {
     "name": "stdout",
     "output_type": "stream",
     "text": [
      "756872327473\n"
     ]
    }
   ],
   "source": [
    "r = 35\n",
    "b = 85\n",
    "while r+b < 1e+12:\n",
    "    b = int((b -0.5)*(3 +8**0.5)+0.5)\n",
    "    r = int(round((1+(1+8*b*(b-1))**0.5)/2))-b\n",
    "print b"
   ]
  },
  {
   "cell_type": "code",
   "execution_count": null,
   "metadata": {
    "collapsed": true
   },
   "outputs": [],
   "source": []
  }
 ],
 "metadata": {
  "kernelspec": {
   "display_name": "Python 2",
   "language": "python",
   "name": "python2"
  },
  "language_info": {
   "codemirror_mode": {
    "name": "ipython",
    "version": 2
   },
   "file_extension": ".py",
   "mimetype": "text/x-python",
   "name": "python",
   "nbconvert_exporter": "python",
   "pygments_lexer": "ipython2",
   "version": "2.7.11"
  }
 },
 "nbformat": 4,
 "nbformat_minor": 0
}
