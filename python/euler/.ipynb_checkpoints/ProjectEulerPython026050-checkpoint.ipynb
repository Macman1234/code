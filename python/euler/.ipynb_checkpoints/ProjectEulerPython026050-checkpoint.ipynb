{
 "cells": [
  {
   "cell_type": "markdown",
   "metadata": {},
   "source": [
    "### 26. Reciprocal cycles\n",
    "\n",
    "A unit fraction contains 1 in the numerator. The decimal representation of the unit fractions with denominators 2 to 10 are given:\n",
    "\n",
    "1/2\t= \t0.5\n",
    "1/3\t= \t0.(3)\n",
    "1/4\t= \t0.25\n",
    "1/5\t= \t0.2\n",
    "1/6\t= \t0.1(6)\n",
    "1/7\t= \t0.(142857)\n",
    "1/8\t= \t0.125\n",
    "1/9\t= \t0.(1)\n",
    "1/10\t= \t0.1\n",
    "Where 0.1(6) means 0.166666..., and has a 1-digit recurring cycle. It can be seen that 1/7 has a 6-digit recurring cycle.\n",
    "\n",
    "Find the value of d < 1000 for which 1/d contains the longest recurring cycle in its decimal fraction part."
   ]
  },
  {
   "cell_type": "code",
   "execution_count": 23,
   "metadata": {
    "collapsed": false
   },
   "outputs": [
    {
     "name": "stdout",
     "output_type": "stream",
     "text": [
      "983\n"
     ]
    }
   ],
   "source": [
    "def cycleLength(n):\n",
    "    divisor = 1\n",
    "    remainderToCyclePosition = {}\n",
    "    while True:\n",
    "        while divisor < n:\n",
    "            remainderToCyclePosition[divisor] = len(remainderToCyclePosition)\n",
    "            divisor *= 10\n",
    "        remainder = divisor % n\n",
    "        if remainder == 0:\n",
    "            return 1\n",
    "        if remainderToCyclePosition.get(remainder) == None:\n",
    "            remainderToCyclePosition[remainder] = len(remainderToCyclePosition)\n",
    "        else:\n",
    "            return len(remainderToCyclePosition) - remainderToCyclePosition[remainder]\n",
    "        divisor = remainder\n",
    "def functionMax(f, n):\n",
    "    max_ = f(1)\n",
    "    maxIndex = 1\n",
    "    for k in range(2, n):\n",
    "        funVal = f(k)\n",
    "        if funVal > max_:\n",
    "            maxIndex = k\n",
    "            max_ = funVal\n",
    "    return [maxIndex, max_]    \n",
    "print functionMax(cycleLength, 1000)[0]"
   ]
  },
  {
   "cell_type": "markdown",
   "metadata": {
    "collapsed": false
   },
   "source": [
    "### 27. Quadratic primes\n",
    "Euler discovered the remarkable quadratic formula:\n",
    "\n",
    "$n^2 + n + 41$\n",
    "\n",
    "It turns out that the formula will produce 40 primes for the consecutive values n = 0 to 39. However, when n = 40, 402 + 40 + 41 = 40(40 + 1) + 41 is divisible by 41, and certainly when n = 41, 41² + 41 + 41 is clearly divisible by 41.\n",
    "\n",
    "The incredible formula  $n^2 − 79n + 1601$ was discovered, which produces 80 primes for the consecutive values n = 0 to 79. The product of the coefficients, −79 and 1601, is −126479.\n",
    "\n",
    "Considering quadratics of the form:\n",
    "\n",
    "$n^2 + an + b$, where |a| < 1000 and |b| < 1000\n",
    "\n",
    "where |n| is the modulus/absolute value of n\n",
    "e.g. |11| = 11 and |−4| = 4\n",
    "Find the product of the coefficients, a and b, for the quadratic expression that produces the maximum number of primes for consecutive values of n, starting with n = 0."
   ]
  },
  {
   "cell_type": "code",
   "execution_count": 10,
   "metadata": {
    "collapsed": false
   },
   "outputs": [
    {
     "name": "stdout",
     "output_type": "stream",
     "text": [
      "-61 971 -59231 71\n"
     ]
    }
   ],
   "source": [
    "#b must be odd prime for the formula to generate primes for n=0, 1.\n",
    "#Since n^2+an = n * (n+a) must be even, a must be odd\n",
    "import euler\n",
    "maxNumPrimes = 0\n",
    "ab = [0, 0]\n",
    "primes = [b for b in range(3, 1000, 2) if euler.isPrime(b)]\n",
    "for b in primes:\n",
    "    for a in range(-999, 1000, 2):\n",
    "        n = 0\n",
    "        while euler.isPrime(n*(n+a)+b):\n",
    "            n += 1\n",
    "        if n > maxNumPrimes:\n",
    "            ab = [a, b]\n",
    "            maxNumPrimes = n\n",
    "print ab[0], ab[1], ab[0]*ab[1], maxNumPrimes"
   ]
  },
  {
   "cell_type": "markdown",
   "metadata": {},
   "source": [
    "### 28. Number spiral diagonals\n",
    "Starting with the number 1 and moving to the right in a clockwise direction a 5 by 5 spiral is formed as follows:\n",
    "\n",
    "21 22 23 24 25<br/>\n",
    "20  7  8  9 10<br/>\n",
    "19  6  1  2 11<br/>\n",
    "18  5  4  3 12<br/>\n",
    "17 16 15 14 13\n",
    "\n",
    "It can be verified that the sum of the numbers on the diagonals is 101.\n",
    "\n",
    "What is the sum of the numbers on the diagonals in a 1001 by 1001 spiral formed in the same way?"
   ]
  },
  {
   "cell_type": "code",
   "execution_count": 34,
   "metadata": {
    "collapsed": false
   },
   "outputs": [
    {
     "name": "stdout",
     "output_type": "stream",
     "text": [
      "669171001\n"
     ]
    }
   ],
   "source": [
    "sum_ = 1\n",
    "corner = 1\n",
    "for spiral in range(1, 501):\n",
    "    for n in range(0,4):\n",
    "        corner += spiral*2\n",
    "        sum_ += corner\n",
    "print sum_\n"
   ]
  },
  {
   "cell_type": "code",
   "execution_count": null,
   "metadata": {
    "collapsed": true
   },
   "outputs": [],
   "source": []
  }
 ],
 "metadata": {
  "kernelspec": {
   "display_name": "Python 2",
   "language": "python",
   "name": "python2"
  },
  "language_info": {
   "codemirror_mode": {
    "name": "ipython",
    "version": 2
   },
   "file_extension": ".py",
   "mimetype": "text/x-python",
   "name": "python",
   "nbconvert_exporter": "python",
   "pygments_lexer": "ipython2",
   "version": "2.7.11"
  }
 },
 "nbformat": 4,
 "nbformat_minor": 0
}
